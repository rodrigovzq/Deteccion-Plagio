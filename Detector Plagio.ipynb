{
 "cells": [
  {
   "cell_type": "code",
   "execution_count": 9,
   "source": [
    "import glob\n",
    "import os\n",
    "import numpy as np\n",
    "from sklearn.feature_extraction.text import TfidfVectorizer\n",
    "from sklearn.metrics.pairwise import cosine_similarity\n",
    "\n",
    "student_files = [doc for doc in os.listdir() if doc.endswith('.py')]\n",
    "student_notes = [open(File).read() for File in student_files]\n"
   ],
   "outputs": [],
   "metadata": {}
  },
  {
   "cell_type": "code",
   "execution_count": 26,
   "source": [
    "def vectorize(Text): \n",
    "    return TfidfVectorizer().fit_transform(Text).toarray()\n",
    "\n",
    "def similarity(doc1, doc2): \n",
    "    return 100*cosine_similarity([doc1, doc2])\n"
   ],
   "outputs": [],
   "metadata": {}
  },
  {
   "cell_type": "code",
   "execution_count": 33,
   "source": [
    "vectors = vectorize(student_notes)\n",
    "s_vectors = list(zip(student_files, vectors))\n",
    "umbral_copia= 70\n",
    "\n",
    "def check_plagiarism():\n",
    "    plagiarism_results = set()\n",
    "    global s_vectors\n",
    "    for student_a, text_vector_a in s_vectors:\n",
    "        new_vectors = s_vectors.copy()\n",
    "        current_index = new_vectors.index((student_a, text_vector_a))\n",
    "        del new_vectors[current_index]\n",
    "        for student_b, text_vector_b in new_vectors:\n",
    "            sim_score = similarity(text_vector_a, text_vector_b)[0][1]\n",
    "            student_pair = sorted((student_a, student_b))\n",
    "            score = (student_pair[0], student_pair[1], round(sim_score,2))\n",
    "            if sim_score >= umbral_copia:\n",
    "                plagiarism_results.add(score)\n",
    "    return plagiarism_results\n",
    "\n",
    "for data in check_plagiarism():\n",
    "    print(data)\n"
   ],
   "outputs": [
    {
     "output_type": "stream",
     "name": "stdout",
     "text": [
      "('DiPaolo-Alvarez.py', 'Tarnawski-Torres.py', 92.51)\n",
      "('Sisaro-Sanchez.py', 'Tarnawski-Torres.py', 70.61)\n",
      "('DiPaolo-Alvarez.py', 'Sisaro-Sanchez.py', 75.98)\n"
     ]
    }
   ],
   "metadata": {}
  }
 ],
 "metadata": {
  "kernelspec": {
   "name": "python3",
   "display_name": "Python 3.9.0 64-bit"
  },
  "language_info": {
   "codemirror_mode": {
    "name": "ipython",
    "version": 3
   },
   "file_extension": ".py",
   "mimetype": "text/x-python",
   "name": "python",
   "nbconvert_exporter": "python",
   "pygments_lexer": "ipython3",
   "version": "3.9.0"
  },
  "interpreter": {
   "hash": "4cd7ab41f5fca4b9b44701077e38c5ffd31fe66a6cab21e0214b68d958d0e462"
  }
 },
 "nbformat": 4,
 "nbformat_minor": 2
}